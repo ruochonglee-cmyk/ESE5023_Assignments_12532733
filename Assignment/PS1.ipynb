{
 "cells": [
  {
   "cell_type": "code",
   "execution_count": 5,
   "id": "cbfbcded-f0b4-47e9-9b8d-8000a2abea66",
   "metadata": {},
   "outputs": [
    {
     "name": "stdout",
     "output_type": "stream",
     "text": [
      "a = 5, b = 15, c = 10:\n",
      "5 15 10\n",
      "\n",
      "测试随机的值:\n",
      "a = 4, b = 7, c = 10\n",
      "result: -23\n",
      "a = 6, b = 11, c = 13\n",
      "result: -36\n",
      "a = 15, b = 7, c = 20\n",
      "result: -35\n"
     ]
    }
   ],
   "source": [
    "#1. Flowchart\n",
    "def print_values(a, b, c):\n",
    "    if a > b:\n",
    "        if b > c:\n",
    "            x, y, z = a, b, c\n",
    "            result = x + y - 10 * z\n",
    "            print(a, b, c)\n",
    "        else:\n",
    "            if a > c:\n",
    "                x, y, z = a, c, b\n",
    "                result = x + y - 10 * z\n",
    "            else:\n",
    "                x, y, z = c, a, b\n",
    "                result = x + y - 10 * z\n",
    "        print(f\"result: {result}\")\n",
    "    else:\n",
    "        if b > c:\n",
    "            print(a, b, c)\n",
    "        else:\n",
    "            x, y, z = c, b, a\n",
    "            result = x + y - 10 * z\n",
    "            print(f\"result: {result}\")\n",
    "print(\"a = 5, b = 15, c = 10:\")\n",
    "print_values(5, 15, 10)\n",
    "import random\n",
    "print(\"\\n测试随机的值:\")\n",
    "for _ in range(3):\n",
    "    a = random.randint(1, 20)\n",
    "    b = random.randint(1, 20)\n",
    "    c = random.randint(1, 20)\n",
    "    print(f\"a = {a}, b = {b}, c = {c}\")\n",
    "    print_values(a, b, c)"
   ]
  },
  {
   "cell_type": "code",
   "execution_count": 7,
   "id": "41755752-61ed-474d-97d4-4f942741e0c1",
   "metadata": {},
   "outputs": [
    {
     "name": "stdout",
     "output_type": "stream",
     "text": [
      "[1, 2, 3, 4, 5, 6]\n",
      "[1, 5, 7, 13, 15, 17]\n"
     ]
    }
   ],
   "source": [
    "#2. Continuous celing function\n",
    "import math\n",
    "from functools import lru_cache\n",
    "@lru_cache(None)\n",
    "def F(x):\n",
    "    if x == 1:\n",
    "        return 1\n",
    "    return F(math.ceil(x / 3)) + 2 * x\n",
    "nums = [1, 2, 3, 4, 5, 6,]\n",
    "result = [F(x) for x in nums]\n",
    "print(nums)\n",
    "print(result)"
   ]
  },
  {
   "cell_type": "code",
   "execution_count": 6,
   "id": "581e2b06-18b2-4429-a0fd-768b535849ae",
   "metadata": {},
   "outputs": [
    {
     "name": "stdout",
     "output_type": "stream",
     "text": [
      "Number_of_ways = [1, 10, 55, 220, 715, 2002, 4995, 11340, 23760, 46420, 85228, 147940, 243925, 383470, 576565, 831204, 1151370, 1535040, 1972630, 2446300, 2930455, 3393610, 3801535, 4121260, 4325310, 4395456, 4325310, 4121260, 3801535, 3393610, 2930455, 2446300, 1972630, 1535040, 1151370, 831204, 576565, 383470, 243925, 147940, 85228, 46420, 23760, 11340, 4995, 2002, 715, 220, 55, 10, 1]\n",
      "Maximum number of ways = 4395456 occurs at x = 35\n"
     ]
    }
   ],
   "source": [
    "#3. Dice rolling\n",
    "def Find_number_of_ways(n, x):\n",
    "    dp = [0] * (x + 1)\n",
    "    dp[0] = 1\n",
    "    for _ in range(n):\n",
    "        new_dp = [0] * (x + 1)\n",
    "        for j in range(x + 1):\n",
    "            if dp[j] != 0:\n",
    "                for k in range(1, 7):  \n",
    "                    if j + k <= x:\n",
    "                        new_dp[j + k] += dp[j]\n",
    "        dp = new_dp\n",
    "    return dp\n",
    "n = 10\n",
    "xmax = 60\n",
    "xmin = 10\n",
    "dp = Find_number_of_ways(n, xmax)\n",
    "Number_of_ways = [dp[x] for x in range(xmin, xmax + 1)]\n",
    "max_ways = max(Number_of_ways)\n",
    "x_with_max = xmin + Number_of_ways.index(max_ways)\n",
    "print(\"Number_of_ways =\", Number_of_ways)\n",
    "print(f\"Maximum number of ways = {max_ways} occurs at x = {x_with_max}\")"
   ]
  },
  {
   "cell_type": "code",
   "execution_count": 10,
   "id": "db922d15-d1d3-473f-a96e-e3e27ee14bc1",
   "metadata": {},
   "outputs": [
    {
     "name": "stdout",
     "output_type": "stream",
     "text": [
      "Array: [1, 2, 3]\n",
      "Sum of averages: 14.0\n"
     ]
    },
    {
     "data": {
      "image/png": "[encoded data removed]",
      "text/plain": [
       "<Figure size 1000x600 with 1 Axes>"
      ]
     },
     "metadata": {},
     "output_type": "display_data"
    },
    {
     "name": "stdout",
     "output_type": "stream",
     "text": [
      "描述：随着N的增大，所有子集的平均值之和呈指数级增长。\n"
     ]
    }
   ],
   "source": [
    "#4. Dynamic programming\n",
    "import random\n",
    "import matplotlib.pyplot as plt\n",
    "def Random_integer(N):\n",
    "    return [random.randint(0, 10) for _ in range(N)] \n",
    "def Sum_averages(arr):\n",
    "    n = len(arr) \n",
    "    if n == 0:\n",
    "        return\n",
    "    total_sum = sum(arr)  \n",
    "    return total_sum * (2 **n - 1) / n\n",
    "arr = [1, 2, 3]\n",
    "print(\"Array:\", arr)\n",
    "print(\"Sum of averages:\", Sum_averages(arr))\n",
    "Total_sum_averages = []\n",
    "for N in range(1, 101):\n",
    "    arr = Random_integer(N)\n",
    "    current_sum = Sum_averages(arr)\n",
    "    Total_sum_averages.append(current_sum)\n",
    "plt.figure(figsize=(10, 6))  \n",
    "plt.plot(\n",
    "    range(1, 101),  \n",
    "    Total_sum_averages,  \n",
    ")\n",
    "plt.savefig('sum_of_averages_plot.png', dpi=300, bbox_inches='tight')\n",
    "plt.show() \n",
    "print(\"描述：随着N的增大，所有子集的平均值之和呈指数级增长。\")"
   ]
  },
  {
   "cell_type": "code",
   "execution_count": 33,
   "id": "916f4b91-8026-4ae9-bb99-b3f2f3034dcf",
   "metadata": {},
   "outputs": [
    {
     "name": "stdout",
     "output_type": "stream",
     "text": [
      "测试的8x10矩阵：\n",
      "[1, 1, 0, 1, 1, 0, 1, 1, 1, 1]\n",
      "[0, 1, 1, 0, 0, 1, 0, 1, 0, 1]\n",
      "[1, 0, 1, 1, 0, 1, 1, 0, 0, 1]\n",
      "[1, 1, 1, 1, 0, 1, 1, 1, 1, 0]\n",
      "[0, 0, 0, 1, 0, 1, 1, 0, 1, 0]\n",
      "[1, 1, 1, 1, 1, 0, 1, 0, 0, 1]\n",
      "[1, 1, 1, 1, 1, 0, 1, 0, 0, 0]\n",
      "[0, 0, 1, 1, 0, 1, 1, 0, 1, 1]\n",
      "这个8x10矩阵的路径数：0\n",
      "1000次实验的平均路径数：0.24\n"
     ]
    }
   ],
   "source": [
    "#5. Path counting\n",
    "import random \n",
    "def create_matrix(rows, cols):\n",
    "    matrix = []\n",
    "    for i in range(rows): \n",
    "        row = []  \n",
    "        for j in range(cols): \n",
    "            if (i == 0 and j == 0) or (i == rows-1 and j == cols-1):\n",
    "                row.append(1)\n",
    "            else:\n",
    "                row.append(random.randint(0, 1))\n",
    "        matrix.append(row) \n",
    "    return matrix\n",
    "def count_path(matrix):\n",
    "\n",
    "    if not matrix: \n",
    "        return 0\n",
    "    rows = len(matrix) \n",
    "    cols = len(matrix[0]) \n",
    "\n",
    "    if matrix[0][0] == 0 or matrix[rows-1][cols-1] == 0:\n",
    "        return 0\n",
    "    dp = []\n",
    "    for i in range(rows):\n",
    "        dp_row = [0] * cols \n",
    "        dp.append(dp_row)\n",
    "    dp[0][0] = 1\n",
    "    for j in range(1, cols):  \n",
    "        if matrix[0][j] == 1:\n",
    "            dp[0][j] = dp[0][j-1]\n",
    "    for i in range(1, rows):\n",
    "        if matrix[i][0] == 1:\n",
    "            dp[i][0] = dp[i-1][0]\n",
    "    for i in range(1, rows): \n",
    "        for j in range(1, cols): \n",
    "            if matrix[i][j] == 1: \n",
    "                dp[i][j] = dp[i-1][j] + dp[i][j-1]\n",
    "    return dp[rows-1][cols-1]\n",
    "def calculate_average():\n",
    "    rows = 10  \n",
    "    cols = 8   \n",
    "    total_experiments = 1000  \n",
    "    total_paths = 0  \n",
    "    for i in range(total_experiments):\n",
    "        mat = create_matrix(rows, cols)\n",
    "        paths = count_path(mat)\n",
    "        total_paths += paths\n",
    "    average = total_paths / total_experiments\n",
    "    return average\n",
    "if __name__ == \"__main__\":\n",
    "    test_matrix = create_matrix(8, 10)\n",
    "    print(\"测试的8x10矩阵：\")\n",
    "    for row in test_matrix:\n",
    "        print(row)\n",
    "    test_paths = count_path(test_matrix)\n",
    "    print(f\"这个8x10矩阵的路径数：{test_paths}\")\n",
    "    avg = calculate_average()\n",
    "    print(f\"1000次实验的平均路径数：{avg:.2f}\")"
   ]
  }
 ],
 "metadata": {
  "kernelspec": {
   "display_name": "Python 3 (ipykernel)",
   "language": "python",
   "name": "python3"
  },
  "language_info": {
   "codemirror_mode": {
    "name": "ipython",
    "version": 3
   },
   "file_extension": ".py",
   "mimetype": "text/x-python",
   "name": "python",
   "nbconvert_exporter": "python",
   "pygments_lexer": "ipython3",
   "version": "3.13.5"
  }
 },
 "nbformat": 4,
 "nbformat_minor": 5
}
